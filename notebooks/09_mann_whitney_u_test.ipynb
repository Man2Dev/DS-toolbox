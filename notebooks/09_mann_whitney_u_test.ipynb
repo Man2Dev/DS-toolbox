{
 "cells": [
  {
   "cell_type": "markdown",
   "id": "e78fec93",
   "metadata": {},
   "source": [
    "# Mann-Whitney U Test\n",
    "\n",
    "Nonparametric test for two independent samples."
   ]
  },
  {
   "cell_type": "code",
   "execution_count": null,
   "id": "718c26a1",
   "metadata": {},
   "outputs": [],
   "source": [
    "from scipy.stats import mannwhitneyu\n",
    "\n",
    "gA = [5, 7, 9, 10, 6]\n",
    "gB = [8, 12, 11, 9, 7]\n",
    "U, p = mannwhitneyu(gA, gB)\n",
    "print(f'U={U}, p-value={p:.3f}')"
   ]
  }
 ],
 "metadata": {},
 "nbformat": 4,
 "nbformat_minor": 5
}
