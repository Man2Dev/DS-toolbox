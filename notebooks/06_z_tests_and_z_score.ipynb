{
 "cells": [
  {
   "cell_type": "markdown",
   "id": "34fca35e",
   "metadata": {},
   "source": [
    "# Z-Tests and Z-Score\n",
    "\n",
    "Calculating z-scores and performing z-test with known sigma."
   ]
  },
  {
   "cell_type": "code",
   "execution_count": null,
   "id": "bddc2d09",
   "metadata": {},
   "outputs": [],
   "source": [
    "import numpy as np\n",
    "from scipy.stats import norm\n",
    "\n",
    "# Z-score normalization\n",
    "x = np.array([5, 7, 9, 10])\n",
    "z = (x - x.mean()) / x.std()\n",
    "print('Z-scores:', z)\n",
    "\n",
    "# Z-test for mean\n",
    "sample = np.random.normal(100, 15, 50)\n",
    "mu0, sigma = 100, 15\n",
    "z_stat = (sample.mean() - mu0) / (sigma/np.sqrt(len(sample)))\n",
    "p_val = 2 * (1 - norm.cdf(abs(z_stat)))\n",
    "print(f'Z-statistic: {z_stat:.2f}, p-value: {p_val:.3f}')"
   ]
  }
 ],
 "metadata": {},
 "nbformat": 4,
 "nbformat_minor": 5
}
