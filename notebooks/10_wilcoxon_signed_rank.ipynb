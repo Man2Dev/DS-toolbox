{
 "cells": [
  {
   "cell_type": "markdown",
   "id": "32568d6e",
   "metadata": {},
   "source": [
    "# Wilcoxon Signed-Rank Test\n",
    "\n",
    "Nonparametric paired test."
   ]
  },
  {
   "cell_type": "code",
   "execution_count": null,
   "id": "e4038346",
   "metadata": {},
   "outputs": [],
   "source": [
    "from scipy.stats import wilcoxon\n",
    "\n",
    "before = [120, 130, 115, 140, 125]\n",
    "after = [118, 135, 117, 138, 123]\n",
    "stat, p = wilcoxon(before, after)\n",
    "print(f'Statistic={stat}, p-value={p:.3f}')"
   ]
  }
 ],
 "metadata": {},
 "nbformat": 4,
 "nbformat_minor": 5
}
