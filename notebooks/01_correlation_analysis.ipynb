{
 "cells": [
  {
   "cell_type": "markdown",
   "id": "0a09d7a8",
   "metadata": {},
   "source": [
    "# Correlation Analysis\n",
    "\n",
    "This notebook covers Pearson, Spearman, and Kendall correlation methods."
   ]
  },
  {
   "cell_type": "code",
   "execution_count": null,
   "id": "33b50d95",
   "metadata": {},
   "outputs": [],
   "source": [
    "import pandas as pd\n",
    "import numpy as np\n",
    "import seaborn as sns\n",
    "import matplotlib.pyplot as plt\n",
    "from scipy.stats import pearsonr, spearmanr, kendalltau\n",
    "\n",
    "# Load dataset\n",
    "from sklearn.datasets import load_iris\n",
    "iris = load_iris()\n",
    "iris_df = pd.DataFrame(data=iris.data, columns=iris.feature_names)\n",
    "# Compute correlations\n",
    "pearson_r, pearson_p = pearsonr(iris_df['petal length (cm)'], iris_df['petal width (cm)'])\n",
    "spearman_r, spearman_p = spearmanr(iris_df['petal length (cm)'], iris_df['petal width (cm)'])\n",
    "kendall_r, kendall_p = kendalltau(iris_df['petal length (cm)'], iris_df['petal width (cm)'])\n",
    "print(f\"Pearson r={pearson_r:.4f}, p={pearson_p:.2e}\")\n",
    "print(f\"Spearman rho={spearman_r:.4f}, p={spearman_p:.2e}\")\n",
    "print(f\"Kendall tau={kendall_r:.4f}, p={kendall_p:.2e}\")"
   ]
  },
  {
   "cell_type": "code",
   "execution_count": null,
   "id": "e7e99e78",
   "metadata": {},
   "outputs": [],
   "source": [
    "# Visualizations\n",
    "sns.lmplot(x='petal length (cm)', y='petal width (cm)', data=iris_df)\n",
    "plt.title('Pearson Correlation Scatter with Fit')\n",
    "plt.show()\n",
    "\n",
    "corr = iris_df.corr()\n",
    "sns.heatmap(corr, annot=True)\n",
    "plt.title('Correlation Matrix Heatmap')\n",
    "plt.show()"
   ]
  }
 ],
 "metadata": {},
 "nbformat": 4,
 "nbformat_minor": 5
}
