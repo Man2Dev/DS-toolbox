{
 "cells": [
  {
   "cell_type": "markdown",
   "id": "e247b121",
   "metadata": {},
   "source": [
    "# Kruskal-Wallis Test\n",
    "\n",
    "Nonparametric ANOVA equivalent."
   ]
  },
  {
   "cell_type": "code",
   "execution_count": null,
   "id": "052ae501",
   "metadata": {},
   "outputs": [],
   "source": [
    "from scipy.stats import kruskal\n",
    "\n",
    "g1 = [14, 15, 16, 15]\n",
    "g2 = [18, 19, 21, 20]\n",
    "g3 = [13, 14, 14, 13]\n",
    "H, p = kruskal(g1, g2, g3)\n",
    "print(f'H={H:.2f}, p-value={p:.3f}')"
   ]
  }
 ],
 "metadata": {},
 "nbformat": 4,
 "nbformat_minor": 5
}
