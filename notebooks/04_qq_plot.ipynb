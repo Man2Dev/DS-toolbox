{
 "cells": [
  {
   "cell_type": "markdown",
   "id": "c04712cc",
   "metadata": {},
   "source": [
    "# Q-Q Plot\n",
    "\n",
    "Comparing sample distribution to theoretical normal."
   ]
  },
  {
   "cell_type": "code",
   "execution_count": null,
   "id": "3151ad60",
   "metadata": {},
   "outputs": [],
   "source": [
    "import numpy as np\n",
    "import matplotlib.pyplot as plt\n",
    "from scipy import stats\n",
    "\n",
    "# Generate sample data\n",
    "data = np.random.exponential(scale=2, size=100)\n",
    "# Q-Q plot against normal\n",
    "stats.probplot(data, dist='norm', plot=plt)\n",
    "plt.title('Normal Q-Q Plot')\n",
    "plt.show()"
   ]
  }
 ],
 "metadata": {},
 "nbformat": 4,
 "nbformat_minor": 5
}
