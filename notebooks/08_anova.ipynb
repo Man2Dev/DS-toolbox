{
 "cells": [
  {
   "cell_type": "markdown",
   "id": "8739a8aa",
   "metadata": {},
   "source": [
    "# ANOVA\n",
    "\n",
    "One-way ANOVA to compare >2 group means."
   ]
  },
  {
   "cell_type": "code",
   "execution_count": null,
   "id": "9d9b2339",
   "metadata": {},
   "outputs": [],
   "source": [
    "from scipy.stats import f_oneway\n",
    "\n",
    "g1 = [23, 25, 22, 20]\n",
    "g2 = [30, 28, 35, 27]\n",
    "g3 = [18, 21, 19, 22]\n",
    "F, p = f_oneway(g1, g2, g3)\n",
    "print(f'ANOVA F={F:.2f}, p={p:.3f}')"
   ]
  }
 ],
 "metadata": {},
 "nbformat": 4,
 "nbformat_minor": 5
}
