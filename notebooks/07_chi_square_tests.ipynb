{
 "cells": [
  {
   "cell_type": "markdown",
   "id": "3007d01f",
   "metadata": {},
   "source": [
    "# Chi-Square Tests\n",
    "\n",
    "Goodness-of-fit and test for independence."
   ]
  },
  {
   "cell_type": "code",
   "execution_count": null,
   "id": "e392c858",
   "metadata": {},
   "outputs": [],
   "source": [
    "import pandas as pd\n",
    "from scipy.stats import chisquare, chi2_contingency\n",
    "\n",
    "# Goodness-of-fit\n",
    "obs = [20, 30, 50]\n",
    "exp = [33.3, 33.3, 33.4]\n",
    "print('Goodness-of-fit:', chisquare(observed=obs, f_exp=exp))\n",
    "\n",
    "# Independence test\n",
    "table = pd.DataFrame({'A': [10, 20], 'B': [20, 10]}, index=['X', 'Y'])\n",
    "chi2, p, dof, expected = chi2_contingency(table)\n",
    "print('Chi2 indep:', chi2, p)"
   ]
  }
 ],
 "metadata": {},
 "nbformat": 4,
 "nbformat_minor": 5
}
