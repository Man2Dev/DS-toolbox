{
 "cells": [
  {
   "cell_type": "markdown",
   "id": "a985bdcf",
   "metadata": {},
   "source": [
    "# t-Tests\n",
    "\n",
    "One-sample, two-sample, and paired t-tests."
   ]
  },
  {
   "cell_type": "code",
   "execution_count": null,
   "id": "b5933666",
   "metadata": {},
   "outputs": [],
   "source": [
    "import numpy as np\n",
    "from scipy.stats import ttest_1samp, ttest_ind, ttest_rel\n",
    "\n",
    "# One-sample\n",
    "data = np.random.normal(loc=50, scale=5, size=30)\n",
    "print('One-sample t-test:', ttest_1samp(data, popmean=50))\n",
    "\n",
    "# Two-sample independent\n",
    "group1 = np.random.normal(100, 10, 30)\n",
    "group2 = np.random.normal(105, 10, 30)\n",
    "print('Independent t-test:', ttest_ind(group1, group2))\n",
    "\n",
    "# Paired\n",
    "a = np.random.normal(10, 2, 20)\n",
    "b = a + np.random.normal(0.5, 1, 20)\n",
    "print('Paired t-test:', ttest_rel(a, b))"
   ]
  }
 ],
 "metadata": {},
 "nbformat": 4,
 "nbformat_minor": 5
}
