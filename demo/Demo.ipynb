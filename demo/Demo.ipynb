{
 "cells": [
  {
   "cell_type": "markdown",
   "id": "71319347-e65e-4cac-8005-d1e5059b6a9e",
   "metadata": {},
   "source": [
    "# Interactive Correlation Analysis Demo\n",
    "\n",
    "This notebook lets you explore Pearson’s correlation interactively by selecting any two numeric variables from the Iris dataset.\n",
    "\n",
    "**What you’ll learn:**\n",
    "\n",
    "- What Pearson’s *r* measures and when to use it  \n",
    "- How to compute *r* and its *p*-value in Python  \n",
    "- How to build an interactive widget so that scatterplots and correlation update on‑the‑fly  \n"
   ]
  },
  {
   "cell_type": "code",
   "execution_count": 5,
   "id": "ac7c34f8-9847-4052-8e4c-201683dff095",
   "metadata": {},
   "outputs": [
    {
     "data": {
      "text/html": [
       "<div>\n",
       "<style scoped>\n",
       "    .dataframe tbody tr th:only-of-type {\n",
       "        vertical-align: middle;\n",
       "    }\n",
       "\n",
       "    .dataframe tbody tr th {\n",
       "        vertical-align: top;\n",
       "    }\n",
       "\n",
       "    .dataframe thead th {\n",
       "        text-align: right;\n",
       "    }\n",
       "</style>\n",
       "<table border=\"1\" class=\"dataframe\">\n",
       "  <thead>\n",
       "    <tr style=\"text-align: right;\">\n",
       "      <th></th>\n",
       "      <th>sepal_length</th>\n",
       "      <th>sepal_width</th>\n",
       "      <th>petal_length</th>\n",
       "      <th>petal_width</th>\n",
       "    </tr>\n",
       "  </thead>\n",
       "  <tbody>\n",
       "    <tr>\n",
       "      <th>0</th>\n",
       "      <td>5.1</td>\n",
       "      <td>3.5</td>\n",
       "      <td>1.4</td>\n",
       "      <td>0.2</td>\n",
       "    </tr>\n",
       "    <tr>\n",
       "      <th>1</th>\n",
       "      <td>4.9</td>\n",
       "      <td>3.0</td>\n",
       "      <td>1.4</td>\n",
       "      <td>0.2</td>\n",
       "    </tr>\n",
       "    <tr>\n",
       "      <th>2</th>\n",
       "      <td>4.7</td>\n",
       "      <td>3.2</td>\n",
       "      <td>1.3</td>\n",
       "      <td>0.2</td>\n",
       "    </tr>\n",
       "    <tr>\n",
       "      <th>3</th>\n",
       "      <td>4.6</td>\n",
       "      <td>3.1</td>\n",
       "      <td>1.5</td>\n",
       "      <td>0.2</td>\n",
       "    </tr>\n",
       "    <tr>\n",
       "      <th>4</th>\n",
       "      <td>5.0</td>\n",
       "      <td>3.6</td>\n",
       "      <td>1.4</td>\n",
       "      <td>0.2</td>\n",
       "    </tr>\n",
       "  </tbody>\n",
       "</table>\n",
       "</div>"
      ],
      "text/plain": [
       "   sepal_length  sepal_width  petal_length  petal_width\n",
       "0           5.1          3.5           1.4          0.2\n",
       "1           4.9          3.0           1.4          0.2\n",
       "2           4.7          3.2           1.3          0.2\n",
       "3           4.6          3.1           1.5          0.2\n",
       "4           5.0          3.6           1.4          0.2"
      ]
     },
     "execution_count": 5,
     "metadata": {},
     "output_type": "execute_result"
    }
   ],
   "source": [
    "# Cell 1: Imports and Data Loading\n",
    "import pandas as pd\n",
    "import matplotlib.pyplot as plt\n",
    "from scipy.stats import pearsonr\n",
    "import ipywidgets as widgets\n",
    "from sklearn.datasets import load_iris\n",
    "\n",
    "# Load Iris into a DataFrame\n",
    "iris = load_iris()\n",
    "feature_names = [name.replace(\" (cm)\",\"\").replace(\" \",\"_\") for name in iris.feature_names]\n",
    "df = pd.DataFrame(iris.data, columns=feature_names)\n",
    "\n",
    "# Display first few rows\n",
    "df.head()\n"
   ]
  },
  {
   "cell_type": "markdown",
   "id": "f17da686-da84-4e7c-845d-55de24cffbd2",
   "metadata": {},
   "source": [
    "## Inspect Numeric Columns\n",
    "\n",
    "We’ll let you choose any two of these numeric columns for correlation.\n"
   ]
  },
  {
   "cell_type": "code",
   "execution_count": 6,
   "id": "da4ad193-4622-4642-b070-bce3903e28ba",
   "metadata": {},
   "outputs": [
    {
     "name": "stdout",
     "output_type": "stream",
     "text": [
      "Numeric columns available: ['sepal_length', 'sepal_width', 'petal_length', 'petal_width']\n"
     ]
    }
   ],
   "source": [
    "# Cell 2: Identify numeric columns and show them\n",
    "numeric_cols = df.select_dtypes(include='number').columns.tolist()\n",
    "print(\"Numeric columns available:\", numeric_cols)\n"
   ]
  },
  {
   "cell_type": "markdown",
   "id": "071c39ee-8357-4d4d-977a-3ee588e56a77",
   "metadata": {},
   "source": [
    "## Create Interactive Controls\n",
    "\n",
    "Use two dropdowns to pick X and Y, and automatically update plot + correlation.\n"
   ]
  },
  {
   "cell_type": "code",
   "execution_count": 7,
   "id": "224deeed-eb5b-45ce-95ef-d4529ee29a8e",
   "metadata": {},
   "outputs": [],
   "source": [
    "# Cell 3: Build the interactive dropdowns\n",
    "# Dropdown widgets\n",
    "dropdown_x = widgets.Dropdown(\n",
    "    options=numeric_cols,\n",
    "    value=numeric_cols[0],\n",
    "    description='X variable:',\n",
    ")\n",
    "\n",
    "dropdown_y = widgets.Dropdown(\n",
    "    options=numeric_cols,\n",
    "    value=numeric_cols[1],\n",
    "    description='Y variable:',\n",
    ")\n"
   ]
  },
  {
   "cell_type": "markdown",
   "id": "ed74916e-0721-4686-858b-8a0645039925",
   "metadata": {},
   "source": [
    "## Update Function\n",
    "\n",
    "Defines how to redraw the scatterplot and recompute Pearson’s r when selections change.\n"
   ]
  },
  {
   "cell_type": "code",
   "execution_count": 8,
   "id": "18df8d2c-3a24-4419-a88e-cdb280380f21",
   "metadata": {},
   "outputs": [],
   "source": [
    "# Cell 4: Define the update function\n",
    "def update_correlation(x, y):\n",
    "    \"\"\"\n",
    "    Plot a scatter of df[x] vs df[y] and print Pearson r and p-value.\n",
    "    \"\"\"\n",
    "    plt.figure(figsize=(6, 4))\n",
    "    plt.scatter(df[x], df[y], alpha=0.7)\n",
    "    plt.xlabel(x.replace(\"_\",\" \").title())\n",
    "    plt.ylabel(y.replace(\"_\",\" \").title())\n",
    "    plt.title(f\"{x.replace('_',' ').title()} vs {y.replace('_',' ').title()}\")\n",
    "    plt.grid(True)\n",
    "    plt.show()\n",
    "    \n",
    "    # Compute Pearson's r and p-value\n",
    "    r, p = pearsonr(df[x], df[y])\n",
    "    print(f\"Pearson correlation (r) = {r:.3f}\")\n",
    "    print(f\"P-value                = {p:.3e}\")\n"
   ]
  },
  {
   "cell_type": "markdown",
   "id": "d9c5f101-dc68-420e-96b6-b5a68c7b9833",
   "metadata": {},
   "source": [
    "## Link Widgets to Output\n",
    "\n",
    "Use `interactive_output` so that changing either dropdown reruns `update_correlation`.\n"
   ]
  },
  {
   "cell_type": "code",
   "execution_count": 9,
   "id": "a5a1a130-a58b-4719-b505-b2bce5b3b7dc",
   "metadata": {},
   "outputs": [
    {
     "data": {
      "image/png": "[encoded data removed]",
      "text/plain": [
       "<Figure size 600x400 with 1 Axes>"
      ]
     },
     "metadata": {},
     "output_type": "display_data"
    },
    {
     "name": "stdout",
     "output_type": "stream",
     "text": [
      "Pearson correlation (r) = -0.118\n",
      "P-value                = 1.519e-01\n"
     ]
    },
    {
     "data": {
      "application/vnd.jupyter.widget-view+json": {
       "model_id": "513ccd7617784329bdae2bbc64a0b201",
       "version_major": 2,
       "version_minor": 0
      },
      "text/plain": [
       "VBox(children=(HBox(children=(Dropdown(description='X variable:', options=('sepal_length', 'sepal_width', 'pet…"
      ]
     },
     "metadata": {},
     "output_type": "display_data"
    }
   ],
   "source": [
    "# Cell 5: Wire it all together\n",
    "out = widgets.interactive_output(update_correlation, {\n",
    "    'x': dropdown_x,\n",
    "    'y': dropdown_y\n",
    "})\n",
    "\n",
    "# Display controls and output\n",
    "display(widgets.VBox([\n",
    "    widgets.HBox([dropdown_x, dropdown_y]),\n",
    "    out\n",
    "]))\n"
   ]
  },
  {
   "cell_type": "markdown",
   "id": "adb100f9-4649-409f-8e11-0cb51b386124",
   "metadata": {},
   "source": [
    "## How to Use\n",
    "\n",
    "1. Select any two variables from the **X variable** and **Y variable** dropdowns.  \n",
    "2. The scatterplot and Pearson correlation (with *p*-value) will update automatically.  \n",
    "3. Experiment with different combinations to see how *r* changes with the data.  \n",
    "\n",
    "*Note:* Make sure you’ve enabled the `ipywidgets` extension in JupyterLab:\n",
    "```bash\n",
    "jupyter labextension install @jupyter-widgets/jupyterlab-manager\n"
   ]
  }
 ],
 "metadata": {
  "kernelspec": {
   "display_name": "Python 3 (ipykernel)",
   "language": "python",
   "name": "python3"
  },
  "language_info": {
   "codemirror_mode": {
    "name": "ipython",
    "version": 3
   },
   "file_extension": ".py",
   "mimetype": "text/x-python",
   "name": "python",
   "nbconvert_exporter": "python",
   "pygments_lexer": "ipython3",
   "version": "3.13.3"
  }
 },
 "nbformat": 4,
 "nbformat_minor": 5
}
